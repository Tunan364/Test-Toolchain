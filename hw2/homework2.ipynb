{
 "cells": [
  {
   "cell_type": "markdown",
   "id": "3caa12e2",
   "metadata": {},
   "source": [
    "<h2>Q1</h2>"
   ]
  },
  {
   "cell_type": "markdown",
   "id": "eb5a2407",
   "metadata": {},
   "source": [
    "![Alt text](q11.png)"
   ]
  },
  {
   "cell_type": "markdown",
   "id": "21a827e3",
   "metadata": {},
   "source": [
    "<h2>Q2</h2>"
   ]
  },
  {
   "cell_type": "code",
   "execution_count": 170,
   "id": "79c630bf-0338-410f-be82-90ed55034cf2",
   "metadata": {},
   "outputs": [],
   "source": [
    "from pyspark.sql import SparkSession\n",
    "from pyspark.sql.functions import col\n",
    "from pyspark.sql.types import StringType\n",
    "from pyspark import SparkConf\n",
    "import feedparser\n",
    "import findspark\n",
    "findspark.init()\n",
    "findspark.find()\n",
    "conf = SparkConf().set(\"spark.executor.memory\", \"4g\").set(\"spark.driver.memory\", \"4g\")\n",
    "spark = SparkSession.builder.master(\"local[*]\").config(conf=conf).getOrCreate()"
   ]
  },
  {
   "cell_type": "code",
   "execution_count": 171,
   "id": "9560c1b1-2717-47d5-af41-26f943b37101",
   "metadata": {},
   "outputs": [],
   "source": [
    "url = \"https://news.google.com/rss/search?q=technology&hl=en-US&gl=US&ceid=US:en\"\n",
    "# The use of feedparser is from GPT4\n",
    "feed = feedparser.parse(url)\n",
    "\n",
    "news_items = []\n",
    "for entry in feed.entries:\n",
    "    news_items.append((\n",
    "        entry.title,\n",
    "        entry.link,\n",
    "        entry.published,\n",
    "        entry.description,\n",
    "        entry.source.title if 'source' in entry else \"null\"\n",
    "    ))\n",
    "# news_items"
   ]
  },
  {
   "cell_type": "code",
   "execution_count": 172,
   "id": "2675dabf-5878-4149-a7e7-4bfebecedbed",
   "metadata": {},
   "outputs": [
    {
     "name": "stdout",
     "output_type": "stream",
     "text": [
      "+--------------------+--------------------+--------------------+--------------------+--------------------+\n",
      "|               title|                link|             pubDate|         description|              source|\n",
      "+--------------------+--------------------+--------------------+--------------------+--------------------+\n",
      "|Gartner: The Top ...|https://news.goog...|Tue, 10 Sep 2024 ...|<a href=\"https://...|        TechRepublic|\n",
      "|How the new iPhon...|https://news.goog...|Mon, 09 Sep 2024 ...|<a href=\"https://...|            CBS News|\n",
      "|ESR Unveils Walle...|https://news.goog...|Tue, 10 Sep 2024 ...|<a href=\"https://...|              Forbes|\n",
      "|Amazon adding AI ...|https://news.goog...|Tue, 10 Sep 2024 ...|<a href=\"https://...|            The Hill|\n",
      "|2024 35 Innovator...|https://news.goog...|Mon, 09 Sep 2024 ...|<a href=\"https://...|MIT Technology Re...|\n",
      "+--------------------+--------------------+--------------------+--------------------+--------------------+\n",
      "only showing top 5 rows\n",
      "\n"
     ]
    }
   ],
   "source": [
    "columns = \"title STRING, link STRING, pubDate STRING, description STRING, source STRING\"\n",
    "test_df = spark.createDataFrame(news_items, columns)\n",
    "\n",
    "test_df.show(5)"
   ]
  },
  {
   "cell_type": "code",
   "execution_count": 173,
   "id": "b7611e5e-ef9f-453a-bba2-ef7bb4333b98",
   "metadata": {},
   "outputs": [],
   "source": [
    "# update the options with your db user and password\n",
    "\n",
    "db_properties={}\n",
    "db_properties['username']=\"postgres\"\n",
    "db_properties['password']=\"88062601\"\n",
    "db_properties['url']= \"jdbc:postgresql://localhost:5432/postgres\"\n",
    "db_properties['table']=\"google_news\"\n",
    "db_properties['driver']=\"org.postgresql.Driver\"\n",
    "\n",
    "test_df.write.format(\"jdbc\")\\\n",
    ".mode(\"overwrite\")\\\n",
    ".option(\"url\", db_properties['url'])\\\n",
    ".option(\"dbtable\", db_properties['table'])\\\n",
    ".option(\"user\", db_properties['username'])\\\n",
    ".option(\"password\", db_properties['password'])\\\n",
    ".option(\"Driver\", db_properties['driver'])\\\n",
    ".save()"
   ]
  },
  {
   "cell_type": "markdown",
   "id": "49eded90-c948-4b92-af8e-332aaf79b32f",
   "metadata": {
    "scrolled": true
   },
   "source": [
    "![Alt text](q2.png)"
   ]
  },
  {
   "cell_type": "markdown",
   "id": "13be1f93-399a-44a1-8ed3-ad59c59c2833",
   "metadata": {},
   "source": [
    "<h2>Q3</h2>"
   ]
  },
  {
   "cell_type": "code",
   "execution_count": 174,
   "id": "d64cefad",
   "metadata": {},
   "outputs": [],
   "source": [
    "from pyspark.sql import functions as F\n",
    "spark.conf.set(\"spark.sql.legacy.timeParserPolicy\", \"LEGACY\") #There will be \n",
    "def func3(df):\n",
    "    df = df.withColumn(\"new\",F.to_timestamp(\"pubdate\", \"EEE, dd MMM yyyy HH:mm:ss Z\"))\n",
    "    last_24_hours = F.current_timestamp() - F.expr('INTERVAL 1 DAY')\n",
    "    result = df.filter((df[\"new\"] >= last_24_hours))\n",
    "    result = result.select(\"title\", \"link\", \"pubDate\", \"description\", \"source\")\n",
    "    return result\n"
   ]
  },
  {
   "cell_type": "code",
   "execution_count": 175,
   "id": "49099e16",
   "metadata": {},
   "outputs": [
    {
     "name": "stdout",
     "output_type": "stream",
     "text": [
      "+--------------------+--------------------+--------------------+--------------------+--------------------+\n",
      "|               title|                link|             pubDate|         description|              source|\n",
      "+--------------------+--------------------+--------------------+--------------------+--------------------+\n",
      "|Amazon adding AI ...|https://news.goog...|Tue, 10 Sep 2024 ...|<a href=\"https://...|            The Hill|\n",
      "|Airbus CEO upbeat...|https://news.goog...|Tue, 10 Sep 2024 ...|<a href=\"https://...|             Reuters|\n",
      "|Adobe, Soundcloud...|https://news.goog...|Tue, 10 Sep 2024 ...|<a href=\"https://...|             Digiday|\n",
      "|China takes lead ...|https://news.goog...|Wed, 11 Sep 2024 ...|<a href=\"https://...|            VOA Asia|\n",
      "|David Hone interv...|https://news.goog...|Tue, 10 Sep 2024 ...|<a href=\"https://...|       New Scientist|\n",
      "|Moth aims to brin...|https://news.goog...|Wed, 11 Sep 2024 ...|<a href=\"https://...|         VentureBeat|\n",
      "|Top 10: Technolog...|https://news.goog...|Wed, 11 Sep 2024 ...|<a href=\"https://...| Technology Magazine|\n",
      "|Why Trump Media &...|https://news.goog...|Wed, 11 Sep 2024 ...|<a href=\"https://...|            Benzinga|\n",
      "|BMW color-changin...|https://news.goog...|Wed, 11 Sep 2024 ...|<a href=\"https://...|Repairer Driven News|\n",
      "|Virtual Reality M...|https://news.goog...|Wed, 11 Sep 2024 ...|<a href=\"https://...|       GlobeNewswire|\n",
      "|Murphy at FinTech...|https://news.goog...|Wed, 11 Sep 2024 ...|<a href=\"https://...|          ROI-NJ.com|\n",
      "|Fashion Institute...|https://news.goog...|Wed, 11 Sep 2024 ...|<a href=\"https://...|               Vogue|\n",
      "|Launch of QLLIANS...|https://news.goog...|Wed, 11 Sep 2024 ...|<a href=\"https://...| The Quantum Insider|\n",
      "|Is Your Building ...|https://news.goog...|Wed, 11 Sep 2024 ...|<a href=\"https://...|           Globe St.|\n",
      "|Storage technolog...|https://news.goog...|Wed, 11 Sep 2024 ...|<a href=\"https://...|  ComputerWeekly.com|\n",
      "|Aechelon Technolo...|https://news.goog...|Wed, 11 Sep 2024 ...|<a href=\"https://...|             ASDNews|\n",
      "|NorthWind Partner...|https://news.goog...|Wed, 11 Sep 2024 ...|<a href=\"https://...|  Hunt Scanlon Media|\n",
      "|The Download: A q...|https://news.goog...|Wed, 11 Sep 2024 ...|<a href=\"https://...|MIT Technology Re...|\n",
      "|Samtec Orders Cla...|https://news.goog...|Wed, 11 Sep 2024 ...|<a href=\"https://...|       GlobeNewswire|\n",
      "|Mapping the Guest...|https://news.goog...|Wed, 11 Sep 2024 ...|<a href=\"https://...|     Hospitality Net|\n",
      "+--------------------+--------------------+--------------------+--------------------+--------------------+\n",
      "only showing top 20 rows\n",
      "\n"
     ]
    }
   ],
   "source": [
    "result_df = func3(test_df)\n",
    "result_df.show()"
   ]
  },
  {
   "cell_type": "markdown",
   "id": "5ed249ff",
   "metadata": {},
   "source": [
    "![Alt text](q3.png)"
   ]
  },
  {
   "cell_type": "markdown",
   "id": "7cba9f3a-774a-4afb-9456-61a0dc7de6c1",
   "metadata": {},
   "source": [
    "<h2>Q4</h2>"
   ]
  },
  {
   "cell_type": "code",
   "execution_count": 176,
   "id": "f9f271cd-e6e0-49e3-9f4e-817150a6d8bd",
   "metadata": {},
   "outputs": [
    {
     "name": "stdout",
     "output_type": "stream",
     "text": [
      "+----------+-----+\n",
      "|  catagory|count|\n",
      "+----------+-----+\n",
      "|technology|  102|\n",
      "|  business|  100|\n",
      "|    sports|  102|\n",
      "+----------+-----+\n",
      "\n"
     ]
    }
   ],
   "source": [
    "url = \"https://news.google.com/rss/search?q=technology&hl=en-US&gl=US&ceid=US:en\"\n",
    "# The use of feedparser is from GPT4\n",
    "feed = feedparser.parse(url)\n",
    "\n",
    "news_items = []\n",
    "for entry in feed.entries:\n",
    "    news_items.append((\n",
    "        entry.title,\n",
    "        entry.link,\n",
    "        entry.published,\n",
    "        entry.description,\n",
    "        entry.source.title if 'source' in entry else \"null\",\n",
    "        \"technology\"\n",
    "    ))\n",
    "\n",
    "url = \"https://news.google.com/rss/search?q=business&hl=enUS&gl=US&ceid=US:en\"\n",
    "feed = feedparser.parse(url)\n",
    "for entry in feed.entries:\n",
    "    news_items.append((\n",
    "        entry.title,\n",
    "        entry.link,\n",
    "        entry.published,\n",
    "        entry.description,\n",
    "        entry.source.title if 'source' in entry else \"null\",\n",
    "        \"business\"\n",
    "    ))\n",
    "\n",
    "url = \"https://news.google.com/rss/search?q=sports&hl=enUS&gl=US&ceid=US:en\"\n",
    "feed = feedparser.parse(url)\n",
    "for entry in feed.entries:\n",
    "    news_items.append((\n",
    "        entry.title,\n",
    "        entry.link,\n",
    "        entry.published,\n",
    "        entry.description,\n",
    "        entry.source.title if 'source' in entry else \"null\",\n",
    "        \"sports\"\n",
    "    ))\n",
    "\n",
    "columns = \"title STRING, link STRING, pubDate STRING, description STRING, source STRING, catagory STRING\"\n",
    "test_df = spark.createDataFrame(news_items, columns)\n",
    "\n",
    "# test_df.show()\n",
    "test_df.groupby(\"catagory\").count().show()"
   ]
  },
  {
   "cell_type": "code",
   "execution_count": 177,
   "id": "5859bdb8",
   "metadata": {},
   "outputs": [],
   "source": [
    "# update the options with your db user and password\n",
    "\n",
    "db_properties={}\n",
    "db_properties['username']=\"postgres\"\n",
    "db_properties['password']=\"88062601\"\n",
    "db_properties['url']= \"jdbc:postgresql://localhost:5432/postgres\"\n",
    "db_properties['table']=\"google_news\"\n",
    "db_properties['driver']=\"org.postgresql.Driver\"\n",
    "\n",
    "test_df.write.format(\"jdbc\")\\\n",
    ".mode(\"overwrite\")\\\n",
    ".option(\"url\", db_properties['url'])\\\n",
    ".option(\"dbtable\", db_properties['table'])\\\n",
    ".option(\"user\", db_properties['username'])\\\n",
    ".option(\"password\", db_properties['password'])\\\n",
    ".option(\"Driver\", db_properties['driver'])\\\n",
    ".save()"
   ]
  },
  {
   "cell_type": "markdown",
   "id": "00eb019d",
   "metadata": {},
   "source": [
    "<h2>Q5</h2>"
   ]
  },
  {
   "cell_type": "code",
   "execution_count": 178,
   "id": "caa23b2e",
   "metadata": {},
   "outputs": [],
   "source": [
    "df_read = spark.read.format(\"jdbc\")\\\n",
    "    .option(\"url\", db_properties['url'])\\\n",
    "    .option(\"dbtable\", db_properties['table'])\\\n",
    "    .option(\"user\", db_properties['username'])\\\n",
    "    .option(\"password\", db_properties['password'])\\\n",
    "    .option(\"Driver\", db_properties['driver'])\\\n",
    "    .load()"
   ]
  },
  {
   "cell_type": "code",
   "execution_count": 179,
   "id": "e8e47772",
   "metadata": {},
   "outputs": [
    {
     "name": "stdout",
     "output_type": "stream",
     "text": [
      "+----------+-----+\n",
      "|  catagory|count|\n",
      "+----------+-----+\n",
      "|technology|  102|\n",
      "|    sports|  102|\n",
      "|  business|  100|\n",
      "+----------+-----+\n",
      "\n"
     ]
    }
   ],
   "source": [
    "df_read.groupby(\"catagory\").count().show()"
   ]
  },
  {
   "cell_type": "code",
   "execution_count": 180,
   "id": "72077327",
   "metadata": {},
   "outputs": [
    {
     "name": "stdout",
     "output_type": "stream",
     "text": [
      "+----------+-----+\n",
      "|  catagory|count|\n",
      "+----------+-----+\n",
      "|technology|  101|\n",
      "|    sports|   89|\n",
      "|  business|  100|\n",
      "+----------+-----+\n",
      "\n"
     ]
    }
   ],
   "source": [
    "filter_df = df_read.filter(~F.lower(F.col(\"title\")).contains(\"nfl\"))\n",
    "filter_df.groupby(\"catagory\").count().show()"
   ]
  },
  {
   "cell_type": "markdown",
   "id": "e2c66a96",
   "metadata": {},
   "source": [
    "<h2>Q6</h2>"
   ]
  },
  {
   "cell_type": "markdown",
   "id": "3cb92dea",
   "metadata": {},
   "source": [
    "![Alt text](q6.png)"
   ]
  },
  {
   "cell_type": "markdown",
   "id": "8af01552",
   "metadata": {},
   "source": []
  }
 ],
 "metadata": {
  "kernelspec": {
   "display_name": "Python 3 (ipykernel)",
   "language": "python",
   "name": "python3"
  },
  "language_info": {
   "codemirror_mode": {
    "name": "ipython",
    "version": 3
   },
   "file_extension": ".py",
   "mimetype": "text/x-python",
   "name": "python",
   "nbconvert_exporter": "python",
   "pygments_lexer": "ipython3",
   "version": "3.11.8"
  }
 },
 "nbformat": 4,
 "nbformat_minor": 5
}
